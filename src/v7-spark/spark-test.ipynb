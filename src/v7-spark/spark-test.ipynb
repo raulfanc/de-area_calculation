{
 "cells": [
  {
   "cell_type": "code",
   "execution_count": 32,
   "id": "55c0fc56",
   "metadata": {},
   "outputs": [],
   "source": [
    "from datetime import timedelta\n",
    "import math\n",
    "\n",
    "from pyspark.sql import SparkSession, functions as F\n",
    "from pyspark.sql import types as T\n",
    "\n",
    "from prefect import task, flow\n",
    "from prefect.tasks import task_input_hash"
   ]
  },
  {
   "cell_type": "code",
   "execution_count": 34,
   "id": "94c6f5c2",
   "metadata": {},
   "outputs": [],
   "source": [
    "spark = SparkSession.builder \\\n",
    "    .master(\"local[*]\") \\\n",
    "    .appName('plexure') \\\n",
    "    .getOrCreate()\n",
    "\n",
    "# Define schema\n",
    "schema = T.StructType([\n",
    "    T.StructField(\"type\", T.StringType(), True),\n",
    "    T.StructField(\"width\", T.DoubleType(), True),\n",
    "    T.StructField(\"height\", T.DoubleType(), True),\n",
    "    T.StructField(\"base\", T.DoubleType(), True),\n",
    "    T.StructField(\"radius\", T.DoubleType(), True)\n",
    "])\n",
    "\n",
    "# Read JSON lines file into a DataFrame\n",
    "df = spark.read.json('dummy_data.jsonl', schema=schema, multiLine=False)"
   ]
  },
  {
   "cell_type": "code",
   "execution_count": 35,
   "id": "3dbbf2e7",
   "metadata": {},
   "outputs": [
    {
     "name": "stdout",
     "output_type": "stream",
     "text": [
      "+---------+-----+------+----+------+\n",
      "|     type|width|height|base|radius|\n",
      "+---------+-----+------+----+------+\n",
      "| triangle| null|   8.0| 2.0|  null|\n",
      "| rectngle|  9.0|   9.0|null|  null|\n",
      "|   circle| null|  null|null|  10.0|\n",
      "| rectngle|  2.0|   6.0|null|  null|\n",
      "|  polygon| null|  null|null|  null|\n",
      "|  polygon| null|  null|null|  null|\n",
      "| rectngle|  5.0|   6.0|null|  null|\n",
      "| triangle| null|   2.0| 1.0|  null|\n",
      "|   circle| null|  null|null|  null|\n",
      "|   circle| null|  null|null|   1.0|\n",
      "| triangle| null|  10.0| 4.0|  null|\n",
      "|  polygon| null|  null|null|  null|\n",
      "| rectngle|  8.0|   8.0|null|  null|\n",
      "|   circle| null|  null|null|   1.0|\n",
      "|   circle| null|  null|null|   4.0|\n",
      "|rectangle| null|  -1.0|null|  null|\n",
      "| triangle| null|   6.0| 2.0|  null|\n",
      "|  polygon| null|  null|null|  null|\n",
      "|  ellipse| null|  null|null|  null|\n",
      "| rectngle|  2.0|   1.0|null|  null|\n",
      "+---------+-----+------+----+------+\n",
      "only showing top 20 rows\n",
      "\n"
     ]
    }
   ],
   "source": [
    "df.show(20)"
   ]
  },
  {
   "cell_type": "markdown",
   "id": "453a36d3",
   "metadata": {},
   "source": [
    "##### count  how many different shapes"
   ]
  },
  {
   "cell_type": "code",
   "execution_count": 36,
   "id": "b06243c0",
   "metadata": {},
   "outputs": [
    {
     "data": {
      "text/plain": [
       "7"
      ]
     },
     "execution_count": 36,
     "metadata": {},
     "output_type": "execute_result"
    }
   ],
   "source": [
    "df.select('type').distinct().count()"
   ]
  },
  {
   "cell_type": "markdown",
   "id": "f4d91d34",
   "metadata": {},
   "source": [
    "##### list values for all [type] keys"
   ]
  },
  {
   "cell_type": "code",
   "execution_count": 37,
   "id": "0cd194e7",
   "metadata": {},
   "outputs": [
    {
     "name": "stdout",
     "output_type": "stream",
     "text": [
      "+---------+\n",
      "|     type|\n",
      "+---------+\n",
      "|   circle|\n",
      "| rectngle|\n",
      "|     null|\n",
      "| triangle|\n",
      "|rectangle|\n",
      "|  ellipse|\n",
      "|  polygon|\n",
      "+---------+\n",
      "\n"
     ]
    }
   ],
   "source": [
    "df.select('type').distinct().show()"
   ]
  },
  {
   "cell_type": "markdown",
   "id": "a431bdf2",
   "metadata": {},
   "source": [
    "##### Calculate average (only meaningful if these fields are numerical):"
   ]
  },
  {
   "cell_type": "code",
   "execution_count": 38,
   "id": "63e5772c",
   "metadata": {
    "scrolled": true
   },
   "outputs": [
    {
     "name": "stdout",
     "output_type": "stream",
     "text": [
      "+---------+-----------------+-----------------+-----------------+-----------------+\n",
      "|     type|        avg_width|       avg_height|         avg_base|       avg_radius|\n",
      "+---------+-----------------+-----------------+-----------------+-----------------+\n",
      "|   circle|             null|             null|             null|5.513812154696133|\n",
      "| rectngle|5.366279069767442|5.244186046511628|             null|             null|\n",
      "|     null|             null|             null|             -1.0|             null|\n",
      "| triangle|             null|5.433333333333334|5.655555555555556|             null|\n",
      "|rectangle|             null|             -1.0|             null|             null|\n",
      "|  ellipse|             null|             null|             null|             null|\n",
      "|  polygon|             null|             null|             null|             null|\n",
      "+---------+-----------------+-----------------+-----------------+-----------------+\n",
      "\n"
     ]
    }
   ],
   "source": [
    "df.groupBy('type').agg(\n",
    "    F.avg('width').alias('avg_width'),\n",
    "    F.avg('height').alias('avg_height'),\n",
    "    F.avg('base').alias('avg_base'),\n",
    "    F.avg('radius').alias('avg_radius')\n",
    ").show()"
   ]
  },
  {
   "cell_type": "markdown",
   "id": "2f45bf10",
   "metadata": {},
   "source": [
    "##### Count nulls in each column"
   ]
  },
  {
   "cell_type": "code",
   "execution_count": 42,
   "id": "41dde56c",
   "metadata": {},
   "outputs": [
    {
     "name": "stdout",
     "output_type": "stream",
     "text": [
      "+----+-----+------+----+------+\n",
      "|type|width|height|base|radius|\n",
      "+----+-----+------+----+------+\n",
      "|  22|  828|   624| 798|   819|\n",
      "+----+-----+------+----+------+\n",
      "\n"
     ]
    }
   ],
   "source": [
    "df.select([F.count(F.when(F.isnull(c), c)).alias(c) for c in df.columns]).show()\n"
   ]
  },
  {
   "cell_type": "markdown",
   "id": "ddb2199a",
   "metadata": {},
   "source": [
    "### calculation"
   ]
  },
  {
   "cell_type": "code",
   "execution_count": 23,
   "id": "1db5d3da",
   "metadata": {},
   "outputs": [],
   "source": [
    "df = df.withColumn('area',\n",
    "                   F.when(F.col('type') == 'rectangle', F.col('width') * F.col('height')) \\\n",
    "                   .when(F.col('type') == 'triangle', 0.5 * F.col('base') * F.col('height')) \\\n",
    "                   .when(F.col('type') == 'circle', math.pi * F.pow(F.col('radius'), 2))\n",
    "                   )\n",
    "\n",
    "# Calculate the total area\n",
    "total_area = df.select(F.sum('area')).first()[0]"
   ]
  },
  {
   "cell_type": "code",
   "execution_count": 11,
   "id": "89ac9ce2",
   "metadata": {},
   "outputs": [
    {
     "name": "stdout",
     "output_type": "stream",
     "text": [
      "50563.2933425039\n"
     ]
    }
   ],
   "source": [
    "print(total_area)"
   ]
  }
 ],
 "metadata": {
  "kernelspec": {
   "display_name": "Python 3 (ipykernel)",
   "language": "python",
   "name": "python3"
  },
  "language_info": {
   "codemirror_mode": {
    "name": "ipython",
    "version": 3
   },
   "file_extension": ".py",
   "mimetype": "text/x-python",
   "name": "python",
   "nbconvert_exporter": "python",
   "pygments_lexer": "ipython3",
   "version": "3.11.3"
  }
 },
 "nbformat": 4,
 "nbformat_minor": 5
}
